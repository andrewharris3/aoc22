{
  "cells": [
    {
      "cell_type": "code",
      "execution_count": 52,
      "metadata": {
        "colab": {
          "base_uri": "https://localhost:8080/",
          "height": 75
        },
        "id": "rZCbmbLIFwFP",
        "outputId": "668b03ad-c4e2-4b32-920d-45985a7e4388"
      },
      "outputs": [
        {
          "output_type": "display_data",
          "data": {
            "text/plain": [
              "<IPython.core.display.HTML object>"
            ],
            "text/html": [
              "\n",
              "     <input type=\"file\" id=\"files-689d252c-e723-42a7-a221-ee93a0a8ac0b\" name=\"files[]\" multiple disabled\n",
              "        style=\"border:none\" />\n",
              "     <output id=\"result-689d252c-e723-42a7-a221-ee93a0a8ac0b\">\n",
              "      Upload widget is only available when the cell has been executed in the\n",
              "      current browser session. Please rerun this cell to enable.\n",
              "      </output>\n",
              "      <script>// Copyright 2017 Google LLC\n",
              "//\n",
              "// Licensed under the Apache License, Version 2.0 (the \"License\");\n",
              "// you may not use this file except in compliance with the License.\n",
              "// You may obtain a copy of the License at\n",
              "//\n",
              "//      http://www.apache.org/licenses/LICENSE-2.0\n",
              "//\n",
              "// Unless required by applicable law or agreed to in writing, software\n",
              "// distributed under the License is distributed on an \"AS IS\" BASIS,\n",
              "// WITHOUT WARRANTIES OR CONDITIONS OF ANY KIND, either express or implied.\n",
              "// See the License for the specific language governing permissions and\n",
              "// limitations under the License.\n",
              "\n",
              "/**\n",
              " * @fileoverview Helpers for google.colab Python module.\n",
              " */\n",
              "(function(scope) {\n",
              "function span(text, styleAttributes = {}) {\n",
              "  const element = document.createElement('span');\n",
              "  element.textContent = text;\n",
              "  for (const key of Object.keys(styleAttributes)) {\n",
              "    element.style[key] = styleAttributes[key];\n",
              "  }\n",
              "  return element;\n",
              "}\n",
              "\n",
              "// Max number of bytes which will be uploaded at a time.\n",
              "const MAX_PAYLOAD_SIZE = 100 * 1024;\n",
              "\n",
              "function _uploadFiles(inputId, outputId) {\n",
              "  const steps = uploadFilesStep(inputId, outputId);\n",
              "  const outputElement = document.getElementById(outputId);\n",
              "  // Cache steps on the outputElement to make it available for the next call\n",
              "  // to uploadFilesContinue from Python.\n",
              "  outputElement.steps = steps;\n",
              "\n",
              "  return _uploadFilesContinue(outputId);\n",
              "}\n",
              "\n",
              "// This is roughly an async generator (not supported in the browser yet),\n",
              "// where there are multiple asynchronous steps and the Python side is going\n",
              "// to poll for completion of each step.\n",
              "// This uses a Promise to block the python side on completion of each step,\n",
              "// then passes the result of the previous step as the input to the next step.\n",
              "function _uploadFilesContinue(outputId) {\n",
              "  const outputElement = document.getElementById(outputId);\n",
              "  const steps = outputElement.steps;\n",
              "\n",
              "  const next = steps.next(outputElement.lastPromiseValue);\n",
              "  return Promise.resolve(next.value.promise).then((value) => {\n",
              "    // Cache the last promise value to make it available to the next\n",
              "    // step of the generator.\n",
              "    outputElement.lastPromiseValue = value;\n",
              "    return next.value.response;\n",
              "  });\n",
              "}\n",
              "\n",
              "/**\n",
              " * Generator function which is called between each async step of the upload\n",
              " * process.\n",
              " * @param {string} inputId Element ID of the input file picker element.\n",
              " * @param {string} outputId Element ID of the output display.\n",
              " * @return {!Iterable<!Object>} Iterable of next steps.\n",
              " */\n",
              "function* uploadFilesStep(inputId, outputId) {\n",
              "  const inputElement = document.getElementById(inputId);\n",
              "  inputElement.disabled = false;\n",
              "\n",
              "  const outputElement = document.getElementById(outputId);\n",
              "  outputElement.innerHTML = '';\n",
              "\n",
              "  const pickedPromise = new Promise((resolve) => {\n",
              "    inputElement.addEventListener('change', (e) => {\n",
              "      resolve(e.target.files);\n",
              "    });\n",
              "  });\n",
              "\n",
              "  const cancel = document.createElement('button');\n",
              "  inputElement.parentElement.appendChild(cancel);\n",
              "  cancel.textContent = 'Cancel upload';\n",
              "  const cancelPromise = new Promise((resolve) => {\n",
              "    cancel.onclick = () => {\n",
              "      resolve(null);\n",
              "    };\n",
              "  });\n",
              "\n",
              "  // Wait for the user to pick the files.\n",
              "  const files = yield {\n",
              "    promise: Promise.race([pickedPromise, cancelPromise]),\n",
              "    response: {\n",
              "      action: 'starting',\n",
              "    }\n",
              "  };\n",
              "\n",
              "  cancel.remove();\n",
              "\n",
              "  // Disable the input element since further picks are not allowed.\n",
              "  inputElement.disabled = true;\n",
              "\n",
              "  if (!files) {\n",
              "    return {\n",
              "      response: {\n",
              "        action: 'complete',\n",
              "      }\n",
              "    };\n",
              "  }\n",
              "\n",
              "  for (const file of files) {\n",
              "    const li = document.createElement('li');\n",
              "    li.append(span(file.name, {fontWeight: 'bold'}));\n",
              "    li.append(span(\n",
              "        `(${file.type || 'n/a'}) - ${file.size} bytes, ` +\n",
              "        `last modified: ${\n",
              "            file.lastModifiedDate ? file.lastModifiedDate.toLocaleDateString() :\n",
              "                                    'n/a'} - `));\n",
              "    const percent = span('0% done');\n",
              "    li.appendChild(percent);\n",
              "\n",
              "    outputElement.appendChild(li);\n",
              "\n",
              "    const fileDataPromise = new Promise((resolve) => {\n",
              "      const reader = new FileReader();\n",
              "      reader.onload = (e) => {\n",
              "        resolve(e.target.result);\n",
              "      };\n",
              "      reader.readAsArrayBuffer(file);\n",
              "    });\n",
              "    // Wait for the data to be ready.\n",
              "    let fileData = yield {\n",
              "      promise: fileDataPromise,\n",
              "      response: {\n",
              "        action: 'continue',\n",
              "      }\n",
              "    };\n",
              "\n",
              "    // Use a chunked sending to avoid message size limits. See b/62115660.\n",
              "    let position = 0;\n",
              "    do {\n",
              "      const length = Math.min(fileData.byteLength - position, MAX_PAYLOAD_SIZE);\n",
              "      const chunk = new Uint8Array(fileData, position, length);\n",
              "      position += length;\n",
              "\n",
              "      const base64 = btoa(String.fromCharCode.apply(null, chunk));\n",
              "      yield {\n",
              "        response: {\n",
              "          action: 'append',\n",
              "          file: file.name,\n",
              "          data: base64,\n",
              "        },\n",
              "      };\n",
              "\n",
              "      let percentDone = fileData.byteLength === 0 ?\n",
              "          100 :\n",
              "          Math.round((position / fileData.byteLength) * 100);\n",
              "      percent.textContent = `${percentDone}% done`;\n",
              "\n",
              "    } while (position < fileData.byteLength);\n",
              "  }\n",
              "\n",
              "  // All done.\n",
              "  yield {\n",
              "    response: {\n",
              "      action: 'complete',\n",
              "    }\n",
              "  };\n",
              "}\n",
              "\n",
              "scope.google = scope.google || {};\n",
              "scope.google.colab = scope.google.colab || {};\n",
              "scope.google.colab._files = {\n",
              "  _uploadFiles,\n",
              "  _uploadFilesContinue,\n",
              "};\n",
              "})(self);\n",
              "</script> "
            ]
          },
          "metadata": {}
        },
        {
          "output_type": "stream",
          "name": "stdout",
          "text": [
            "Saving input.txt to input (1).txt\n"
          ]
        }
      ],
      "source": [
        "import numpy as np\n",
        "import pandas as pd\n",
        "from string import ascii_lowercase, ascii_uppercase\n",
        "import functools\n",
        "import itertools\n",
        "import queue\n",
        "import operator\n",
        "from copy import deepcopy\n",
        "from pprint import pprint\n",
        "import typing\n",
        "\n",
        "from google.colab import files\n",
        "uploaded = files.upload()"
      ]
    },
    {
      "cell_type": "code",
      "execution_count": 2,
      "metadata": {
        "id": "e3V_8u8GFyqE"
      },
      "outputs": [],
      "source": [
        "with open('input.txt') as f:\n",
        "    x = f.readlines()"
      ]
    },
    {
      "cell_type": "code",
      "execution_count": 3,
      "metadata": {
        "id": "_pNGbn2eGCcT"
      },
      "outputs": [],
      "source": [
        "move_list = list(filter(lambda y: str(y).startswith(\"move\"), x))\n",
        "state_list = list(filter(lambda y: operator.not_(str(y).startswith(\"move\")), x))[:-2]"
      ]
    },
    {
      "cell_type": "code",
      "execution_count": 4,
      "metadata": {
        "id": "_srb8kO7K0K_"
      },
      "outputs": [],
      "source": [
        "df = pd.DataFrame(move_list, columns = ['raw_moves'])"
      ]
    },
    {
      "cell_type": "code",
      "execution_count": 5,
      "metadata": {
        "id": "eW3u-nsVGDLT"
      },
      "outputs": [],
      "source": [
        "parsed_moves = df.raw_moves.str.extractall(\"(\\d+)\").unstack()\n",
        "parsed_moves.columns = parsed_moves.columns.droplevel()\n",
        "parsed_moves = parsed_moves.rename(columns = {0:\"count\", 1:\"to\", 2:\"from\"}).astype('int')"
      ]
    },
    {
      "cell_type": "code",
      "execution_count": 6,
      "metadata": {
        "id": "uJisYY2l3LfC"
      },
      "outputs": [],
      "source": [
        "counts, tos, froms = parsed_moves['count'].tolist(), parsed_moves['to'].tolist(), parsed_moves['from'].tolist()\n",
        "zipped = list(zip(counts, tos, froms))"
      ]
    },
    {
      "cell_type": "code",
      "execution_count": 7,
      "metadata": {
        "colab": {
          "base_uri": "https://localhost:8080/"
        },
        "id": "4CGDT_QR6YDV",
        "outputId": "605809b9-83a9-4cd0-a47d-290043da0d99"
      },
      "outputs": [
        {
          "output_type": "execute_result",
          "data": {
            "text/plain": [
              "['            [C]         [N] [R]    \\n',\n",
              " '[J] [T]     [H]         [P] [L]    \\n',\n",
              " '[F] [S] [T] [B]         [M] [D]    \\n',\n",
              " '[C] [L] [J] [Z] [S]     [L] [B]    \\n',\n",
              " '[N] [Q] [G] [J] [J]     [F] [F] [R]\\n',\n",
              " '[D] [V] [B] [L] [B] [Q] [D] [M] [T]\\n',\n",
              " '[B] [Z] [Z] [T] [V] [S] [V] [S] [D]\\n',\n",
              " '[W] [P] [P] [D] [G] [P] [B] [P] [V]\\n']"
            ]
          },
          "metadata": {},
          "execution_count": 7
        }
      ],
      "source": [
        "state_list"
      ]
    },
    {
      "cell_type": "code",
      "execution_count": 8,
      "metadata": {
        "id": "5ZsXSQzO6QvD"
      },
      "outputs": [],
      "source": [
        "with open(\"new_input.txt\", \"w+\") as f:\n",
        "    f.write(\"\\n\".join(state_list))"
      ]
    },
    {
      "cell_type": "code",
      "execution_count": 9,
      "metadata": {
        "id": "MylIQ3_aIVa0"
      },
      "outputs": [],
      "source": [
        "df = pd.read_fwf(\n",
        "    \"new_input.txt\", \n",
        "    header = None,\n",
        "    colspecs = [(0,3), (4, 7), (8, 11), (12, 15), \n",
        "                (16, 19), (20, 23), (24, 27), (28, 31), (32, 35)])"
      ]
    },
    {
      "cell_type": "code",
      "execution_count": 10,
      "metadata": {
        "id": "U6_1gCNq4j8q"
      },
      "outputs": [],
      "source": [
        "list_of_states = list(df.T.values.tolist())"
      ]
    },
    {
      "cell_type": "code",
      "execution_count": 29,
      "metadata": {
        "colab": {
          "base_uri": "https://localhost:8080/"
        },
        "id": "5S88ZKv28PNc",
        "outputId": "7fe971ab-f04a-4b37-bb8e-94b6aa79b57a"
      },
      "outputs": [
        {
          "output_type": "execute_result",
          "data": {
            "text/plain": [
              "[['[W]', '[B]', '[D]', '[N]', '[C]', '[F]', '[J]'],\n",
              " ['[P]', '[Z]', '[V]', '[Q]', '[L]', '[S]', '[T]'],\n",
              " ['[P]', '[Z]', '[B]', '[G]', '[J]', '[T]'],\n",
              " ['[D]', '[T]', '[L]', '[J]', '[Z]', '[B]', '[H]', '[C]'],\n",
              " ['[G]', '[V]', '[B]', '[J]', '[S]'],\n",
              " ['[P]', '[S]', '[Q]'],\n",
              " ['[B]', '[V]', '[D]', '[F]', '[L]', '[M]', '[P]', '[N]'],\n",
              " ['[P]', '[S]', '[M]', '[F]', '[B]', '[D]', '[L]', '[R]'],\n",
              " ['[V]', '[D]', '[T]', '[R]']]"
            ]
          },
          "metadata": {},
          "execution_count": 29
        }
      ],
      "source": [
        "x = df.T.values\n",
        "filtered = [list(reversed(list(filter(lambda v: v==v, i)))) for i in x]\n",
        "filtered"
      ]
    },
    {
      "cell_type": "code",
      "source": [
        "# This will be the part a mover, since it can only move one stack at a time. \n",
        "def part_a_mover(input_state, zipped_list):\n",
        "    new_copy = deepcopy(input_state)\n",
        "    for i, j, k in zipped_list:\n",
        "        move_blocks = list(reversed(new_copy[j-1][-i:]))\n",
        "        new_copy[j-1] = new_copy[j-1][:-i]\n",
        "        new_copy[k-1].extend(move_blocks)\n",
        "    return new_copy"
      ],
      "metadata": {
        "id": "C8XSJJ1989TB"
      },
      "execution_count": 50,
      "outputs": []
    },
    {
      "cell_type": "code",
      "execution_count": 13,
      "metadata": {
        "id": "YPQQqrij--Oq"
      },
      "outputs": [],
      "source": [
        "# So this is actually the part b mover, since it assumes I can move 3 blocks at once, rather than just one at a time.\n",
        "def part_b_mover(input_state, zipped_list):\n",
        "    new_copy = deepcopy(input_state)\n",
        "    for i, j, k in zipped_list:\n",
        "        move_blocks = new_copy[j-1][-i:]\n",
        "        new_copy[j-1] = new_copy[j-1][:-i]\n",
        "        new_copy[k-1].extend(move_blocks)\n",
        "    return new_copy"
      ]
    },
    {
      "cell_type": "code",
      "source": [
        "def answer_generator(state = typing.List[typing.List]):\n",
        "    return \"\".join([i[-1] for i in state]).replace('[', '').replace(']', \"\")"
      ],
      "metadata": {
        "id": "WqfuBqzInvvW"
      },
      "execution_count": 57,
      "outputs": []
    },
    {
      "cell_type": "code",
      "execution_count": 67,
      "metadata": {
        "colab": {
          "base_uri": "https://localhost:8080/"
        },
        "id": "qb5tNqM2C-gt",
        "outputId": "9eba3da4-b22a-43b1-e028-7119ad7fa2ef"
      },
      "outputs": [
        {
          "output_type": "execute_result",
          "data": {
            "text/plain": [
              "[['[W]', '[B]', '[D]', '[N]', '[C]', '[F]', '[J]'],\n",
              " ['[P]', '[Z]', '[V]', '[Q]', '[L]', '[S]', '[T]'],\n",
              " ['[P]', '[Z]', '[B]', '[G]', '[J]', '[T]'],\n",
              " ['[D]', '[T]', '[L]', '[J]', '[Z]', '[B]', '[H]', '[C]'],\n",
              " ['[G]', '[V]', '[B]', '[J]', '[S]'],\n",
              " ['[P]', '[S]', '[Q]'],\n",
              " ['[B]', '[V]', '[D]', '[F]', '[L]', '[M]', '[P]', '[N]'],\n",
              " ['[P]', '[S]', '[M]', '[F]', '[B]', '[D]', '[L]', '[R]'],\n",
              " ['[V]', '[D]', '[T]', '[R]']]"
            ]
          },
          "metadata": {},
          "execution_count": 67
        }
      ],
      "source": [
        "filtered"
      ]
    },
    {
      "cell_type": "code",
      "execution_count": 68,
      "metadata": {
        "id": "8uhxPbLN_Pl0"
      },
      "outputs": [],
      "source": [
        "part_a = part_a_mover(filtered, zipped)\n",
        "part_b = part_b_mover(filtered, zipped)"
      ]
    },
    {
      "cell_type": "code",
      "source": [
        "answer_generator(part_a)"
      ],
      "metadata": {
        "colab": {
          "base_uri": "https://localhost:8080/",
          "height": 35
        },
        "id": "PPaY426foSSu",
        "outputId": "ac6e02ee-b1d4-4673-cce9-cfe3f193012e"
      },
      "execution_count": 69,
      "outputs": [
        {
          "output_type": "execute_result",
          "data": {
            "text/plain": [
              "'LBLVVTVLP'"
            ],
            "application/vnd.google.colaboratory.intrinsic+json": {
              "type": "string"
            }
          },
          "metadata": {},
          "execution_count": 69
        }
      ]
    },
    {
      "cell_type": "code",
      "source": [
        "answer_generator(part_b)"
      ],
      "metadata": {
        "colab": {
          "base_uri": "https://localhost:8080/",
          "height": 35
        },
        "id": "CE_pZ0TfoHPN",
        "outputId": "5b4278eb-1fc7-4898-eba9-569da691acd2"
      },
      "execution_count": 70,
      "outputs": [
        {
          "output_type": "execute_result",
          "data": {
            "text/plain": [
              "'TPFFBDRJD'"
            ],
            "application/vnd.google.colaboratory.intrinsic+json": {
              "type": "string"
            }
          },
          "metadata": {},
          "execution_count": 70
        }
      ]
    }
  ],
  "metadata": {
    "colab": {
      "provenance": []
    },
    "kernelspec": {
      "display_name": "Python 3",
      "name": "python3"
    },
    "language_info": {
      "name": "python"
    }
  },
  "nbformat": 4,
  "nbformat_minor": 0
}